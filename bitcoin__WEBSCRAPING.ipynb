{
  "nbformat": 4,
  "nbformat_minor": 0,
  "metadata": {
    "colab": {
      "name": "bitcoin_ WEBSCRAPING.ipynb",
      "provenance": [],
      "toc_visible": true,
      "authorship_tag": "ABX9TyM5QCYnpIe1pk0z7XYsBHu+",
      "include_colab_link": true
    },
    "kernelspec": {
      "name": "python3",
      "display_name": "Python 3"
    }
  },
  "cells": [
    {
      "cell_type": "markdown",
      "metadata": {
        "id": "view-in-github",
        "colab_type": "text"
      },
      "source": [
        "<a href=\"https://colab.research.google.com/github/spyrgalaz/DNN/blob/main/bitcoin__WEBSCRAPING.ipynb\" target=\"_parent\"><img src=\"https://colab.research.google.com/assets/colab-badge.svg\" alt=\"Open In Colab\"/></a>"
      ]
    },
    {
      "cell_type": "markdown",
      "metadata": {
        "id": "wKsUMTouW7XT"
      },
      "source": [
        "##Scraping HISTORICAL Bitcoin prices from coinmarketcap.com "
      ]
    },
    {
      "cell_type": "code",
      "metadata": {
        "id": "AURFedCkwggw",
        "colab": {
          "base_uri": "https://localhost:8080/"
        },
        "outputId": "227d2477-aec3-4c4f-95b1-8becf62a2843"
      },
      "source": [
        "### Install Dependencies for Colab \n",
        "\n",
        "!pip install selenium\n",
        "!apt-get update \n",
        "!apt install chromium-chromedriver\n",
        "! pip install XlsxWriter\n",
        "! pip install xlrd\n",
        "from selenium import webdriver\n",
        "chrome_options = webdriver.ChromeOptions()\n",
        "chrome_options.add_argument('--headless')\n",
        "chrome_options.add_argument('--no-sandbox')\n",
        "chrome_options.add_argument('--disable-dev-shm-usage')\n",
        "wd = webdriver.Chrome('chromedriver',chrome_options=chrome_options)\n",
        "driver =webdriver.Chrome('chromedriver',chrome_options=chrome_options)"
      ],
      "execution_count": 1,
      "outputs": [
        {
          "output_type": "stream",
          "text": [
            "Collecting selenium\n",
            "\u001b[?25l  Downloading https://files.pythonhosted.org/packages/80/d6/4294f0b4bce4de0abf13e17190289f9d0613b0a44e5dd6a7f5ca98459853/selenium-3.141.0-py2.py3-none-any.whl (904kB)\n",
            "\r\u001b[K     |▍                               | 10kB 17.0MB/s eta 0:00:01\r\u001b[K     |▊                               | 20kB 23.7MB/s eta 0:00:01\r\u001b[K     |█                               | 30kB 13.7MB/s eta 0:00:01\r\u001b[K     |█▌                              | 40kB 11.0MB/s eta 0:00:01\r\u001b[K     |█▉                              | 51kB 7.9MB/s eta 0:00:01\r\u001b[K     |██▏                             | 61kB 8.2MB/s eta 0:00:01\r\u001b[K     |██▌                             | 71kB 7.8MB/s eta 0:00:01\r\u001b[K     |███                             | 81kB 8.3MB/s eta 0:00:01\r\u001b[K     |███▎                            | 92kB 8.5MB/s eta 0:00:01\r\u001b[K     |███▋                            | 102kB 8.6MB/s eta 0:00:01\r\u001b[K     |████                            | 112kB 8.6MB/s eta 0:00:01\r\u001b[K     |████▍                           | 122kB 8.6MB/s eta 0:00:01\r\u001b[K     |████▊                           | 133kB 8.6MB/s eta 0:00:01\r\u001b[K     |█████                           | 143kB 8.6MB/s eta 0:00:01\r\u001b[K     |█████▍                          | 153kB 8.6MB/s eta 0:00:01\r\u001b[K     |█████▉                          | 163kB 8.6MB/s eta 0:00:01\r\u001b[K     |██████▏                         | 174kB 8.6MB/s eta 0:00:01\r\u001b[K     |██████▌                         | 184kB 8.6MB/s eta 0:00:01\r\u001b[K     |██████▉                         | 194kB 8.6MB/s eta 0:00:01\r\u001b[K     |███████▎                        | 204kB 8.6MB/s eta 0:00:01\r\u001b[K     |███████▋                        | 215kB 8.6MB/s eta 0:00:01\r\u001b[K     |████████                        | 225kB 8.6MB/s eta 0:00:01\r\u001b[K     |████████▎                       | 235kB 8.6MB/s eta 0:00:01\r\u001b[K     |████████▊                       | 245kB 8.6MB/s eta 0:00:01\r\u001b[K     |█████████                       | 256kB 8.6MB/s eta 0:00:01\r\u001b[K     |█████████▍                      | 266kB 8.6MB/s eta 0:00:01\r\u001b[K     |█████████▉                      | 276kB 8.6MB/s eta 0:00:01\r\u001b[K     |██████████▏                     | 286kB 8.6MB/s eta 0:00:01\r\u001b[K     |██████████▌                     | 296kB 8.6MB/s eta 0:00:01\r\u001b[K     |██████████▉                     | 307kB 8.6MB/s eta 0:00:01\r\u001b[K     |███████████▎                    | 317kB 8.6MB/s eta 0:00:01\r\u001b[K     |███████████▋                    | 327kB 8.6MB/s eta 0:00:01\r\u001b[K     |████████████                    | 337kB 8.6MB/s eta 0:00:01\r\u001b[K     |████████████▎                   | 348kB 8.6MB/s eta 0:00:01\r\u001b[K     |████████████▊                   | 358kB 8.6MB/s eta 0:00:01\r\u001b[K     |█████████████                   | 368kB 8.6MB/s eta 0:00:01\r\u001b[K     |█████████████▍                  | 378kB 8.6MB/s eta 0:00:01\r\u001b[K     |█████████████▊                  | 389kB 8.6MB/s eta 0:00:01\r\u001b[K     |██████████████▏                 | 399kB 8.6MB/s eta 0:00:01\r\u001b[K     |██████████████▌                 | 409kB 8.6MB/s eta 0:00:01\r\u001b[K     |██████████████▉                 | 419kB 8.6MB/s eta 0:00:01\r\u001b[K     |███████████████▏                | 430kB 8.6MB/s eta 0:00:01\r\u001b[K     |███████████████▋                | 440kB 8.6MB/s eta 0:00:01\r\u001b[K     |████████████████                | 450kB 8.6MB/s eta 0:00:01\r\u001b[K     |████████████████▎               | 460kB 8.6MB/s eta 0:00:01\r\u001b[K     |████████████████▋               | 471kB 8.6MB/s eta 0:00:01\r\u001b[K     |█████████████████               | 481kB 8.6MB/s eta 0:00:01\r\u001b[K     |█████████████████▍              | 491kB 8.6MB/s eta 0:00:01\r\u001b[K     |█████████████████▊              | 501kB 8.6MB/s eta 0:00:01\r\u001b[K     |██████████████████▏             | 512kB 8.6MB/s eta 0:00:01\r\u001b[K     |██████████████████▌             | 522kB 8.6MB/s eta 0:00:01\r\u001b[K     |██████████████████▉             | 532kB 8.6MB/s eta 0:00:01\r\u001b[K     |███████████████████▏            | 542kB 8.6MB/s eta 0:00:01\r\u001b[K     |███████████████████▋            | 552kB 8.6MB/s eta 0:00:01\r\u001b[K     |████████████████████            | 563kB 8.6MB/s eta 0:00:01\r\u001b[K     |████████████████████▎           | 573kB 8.6MB/s eta 0:00:01\r\u001b[K     |████████████████████▋           | 583kB 8.6MB/s eta 0:00:01\r\u001b[K     |█████████████████████           | 593kB 8.6MB/s eta 0:00:01\r\u001b[K     |█████████████████████▍          | 604kB 8.6MB/s eta 0:00:01\r\u001b[K     |█████████████████████▊          | 614kB 8.6MB/s eta 0:00:01\r\u001b[K     |██████████████████████          | 624kB 8.6MB/s eta 0:00:01\r\u001b[K     |██████████████████████▌         | 634kB 8.6MB/s eta 0:00:01\r\u001b[K     |██████████████████████▉         | 645kB 8.6MB/s eta 0:00:01\r\u001b[K     |███████████████████████▏        | 655kB 8.6MB/s eta 0:00:01\r\u001b[K     |███████████████████████▌        | 665kB 8.6MB/s eta 0:00:01\r\u001b[K     |████████████████████████        | 675kB 8.6MB/s eta 0:00:01\r\u001b[K     |████████████████████████▎       | 686kB 8.6MB/s eta 0:00:01\r\u001b[K     |████████████████████████▋       | 696kB 8.6MB/s eta 0:00:01\r\u001b[K     |█████████████████████████       | 706kB 8.6MB/s eta 0:00:01\r\u001b[K     |█████████████████████████▍      | 716kB 8.6MB/s eta 0:00:01\r\u001b[K     |█████████████████████████▊      | 727kB 8.6MB/s eta 0:00:01\r\u001b[K     |██████████████████████████      | 737kB 8.6MB/s eta 0:00:01\r\u001b[K     |██████████████████████████▍     | 747kB 8.6MB/s eta 0:00:01\r\u001b[K     |██████████████████████████▉     | 757kB 8.6MB/s eta 0:00:01\r\u001b[K     |███████████████████████████▏    | 768kB 8.6MB/s eta 0:00:01\r\u001b[K     |███████████████████████████▌    | 778kB 8.6MB/s eta 0:00:01\r\u001b[K     |████████████████████████████    | 788kB 8.6MB/s eta 0:00:01\r\u001b[K     |████████████████████████████▎   | 798kB 8.6MB/s eta 0:00:01\r\u001b[K     |████████████████████████████▋   | 808kB 8.6MB/s eta 0:00:01\r\u001b[K     |█████████████████████████████   | 819kB 8.6MB/s eta 0:00:01\r\u001b[K     |█████████████████████████████▍  | 829kB 8.6MB/s eta 0:00:01\r\u001b[K     |█████████████████████████████▊  | 839kB 8.6MB/s eta 0:00:01\r\u001b[K     |██████████████████████████████  | 849kB 8.6MB/s eta 0:00:01\r\u001b[K     |██████████████████████████████▍ | 860kB 8.6MB/s eta 0:00:01\r\u001b[K     |██████████████████████████████▉ | 870kB 8.6MB/s eta 0:00:01\r\u001b[K     |███████████████████████████████▏| 880kB 8.6MB/s eta 0:00:01\r\u001b[K     |███████████████████████████████▌| 890kB 8.6MB/s eta 0:00:01\r\u001b[K     |███████████████████████████████▉| 901kB 8.6MB/s eta 0:00:01\r\u001b[K     |████████████████████████████████| 911kB 8.6MB/s \n",
            "\u001b[?25hRequirement already satisfied: urllib3 in /usr/local/lib/python3.7/dist-packages (from selenium) (1.24.3)\n",
            "Installing collected packages: selenium\n",
            "Successfully installed selenium-3.141.0\n",
            "Ign:1 https://developer.download.nvidia.com/compute/cuda/repos/ubuntu1804/x86_64  InRelease\n",
            "Ign:2 https://developer.download.nvidia.com/compute/machine-learning/repos/ubuntu1804/x86_64  InRelease\n",
            "Hit:3 https://developer.download.nvidia.com/compute/cuda/repos/ubuntu1804/x86_64  Release\n",
            "Hit:4 https://developer.download.nvidia.com/compute/machine-learning/repos/ubuntu1804/x86_64  Release\n",
            "Hit:5 http://archive.ubuntu.com/ubuntu bionic InRelease\n",
            "Get:6 http://security.ubuntu.com/ubuntu bionic-security InRelease [88.7 kB]\n",
            "Get:7 http://ppa.launchpad.net/c2d4u.team/c2d4u4.0+/ubuntu bionic InRelease [15.9 kB]\n",
            "Get:9 https://cloud.r-project.org/bin/linux/ubuntu bionic-cran40/ InRelease [3,626 B]\n",
            "Get:10 http://archive.ubuntu.com/ubuntu bionic-updates InRelease [88.7 kB]\n",
            "Hit:12 http://ppa.launchpad.net/cran/libgit2/ubuntu bionic InRelease\n",
            "Get:13 http://archive.ubuntu.com/ubuntu bionic-backports InRelease [74.6 kB]\n",
            "Hit:14 http://ppa.launchpad.net/deadsnakes/ppa/ubuntu bionic InRelease\n",
            "Get:15 http://ppa.launchpad.net/graphics-drivers/ppa/ubuntu bionic InRelease [21.3 kB]\n",
            "Get:16 http://security.ubuntu.com/ubuntu bionic-security/restricted amd64 Packages [348 kB]\n",
            "Get:17 http://ppa.launchpad.net/c2d4u.team/c2d4u4.0+/ubuntu bionic/main Sources [1,748 kB]\n",
            "Get:18 http://archive.ubuntu.com/ubuntu bionic-updates/main amd64 Packages [2,475 kB]\n",
            "Get:19 http://security.ubuntu.com/ubuntu bionic-security/universe amd64 Packages [1,402 kB]\n",
            "Get:20 http://security.ubuntu.com/ubuntu bionic-security/main amd64 Packages [2,045 kB]\n",
            "Get:21 http://archive.ubuntu.com/ubuntu bionic-updates/universe amd64 Packages [2,170 kB]\n",
            "Get:22 http://ppa.launchpad.net/c2d4u.team/c2d4u4.0+/ubuntu bionic/main amd64 Packages [895 kB]\n",
            "Get:23 http://archive.ubuntu.com/ubuntu bionic-updates/restricted amd64 Packages [378 kB]\n",
            "Get:24 http://ppa.launchpad.net/graphics-drivers/ppa/ubuntu bionic/main amd64 Packages [49.4 kB]\n",
            "Fetched 11.8 MB in 4s (2,783 kB/s)\n",
            "Reading package lists... Done\n",
            "Reading package lists... Done\n",
            "Building dependency tree       \n",
            "Reading state information... Done\n",
            "The following additional packages will be installed:\n",
            "  chromium-browser chromium-browser-l10n chromium-codecs-ffmpeg-extra\n",
            "Suggested packages:\n",
            "  webaccounts-chromium-extension unity-chromium-extension\n",
            "The following NEW packages will be installed:\n",
            "  chromium-browser chromium-browser-l10n chromium-chromedriver\n",
            "  chromium-codecs-ffmpeg-extra\n",
            "0 upgraded, 4 newly installed, 0 to remove and 59 not upgraded.\n",
            "Need to get 83.2 MB of archives.\n",
            "After this operation, 282 MB of additional disk space will be used.\n",
            "Get:1 http://archive.ubuntu.com/ubuntu bionic-updates/universe amd64 chromium-codecs-ffmpeg-extra amd64 89.0.4389.90-0ubuntu0.18.04.2 [1,127 kB]\n",
            "Get:2 http://archive.ubuntu.com/ubuntu bionic-updates/universe amd64 chromium-browser amd64 89.0.4389.90-0ubuntu0.18.04.2 [73.6 MB]\n",
            "Get:3 http://archive.ubuntu.com/ubuntu bionic-updates/universe amd64 chromium-browser-l10n all 89.0.4389.90-0ubuntu0.18.04.2 [3,809 kB]\n",
            "Get:4 http://archive.ubuntu.com/ubuntu bionic-updates/universe amd64 chromium-chromedriver amd64 89.0.4389.90-0ubuntu0.18.04.2 [4,697 kB]\n",
            "Fetched 83.2 MB in 6s (15.0 MB/s)\n",
            "Selecting previously unselected package chromium-codecs-ffmpeg-extra.\n",
            "(Reading database ... 160980 files and directories currently installed.)\n",
            "Preparing to unpack .../chromium-codecs-ffmpeg-extra_89.0.4389.90-0ubuntu0.18.04.2_amd64.deb ...\n",
            "Unpacking chromium-codecs-ffmpeg-extra (89.0.4389.90-0ubuntu0.18.04.2) ...\n",
            "Selecting previously unselected package chromium-browser.\n",
            "Preparing to unpack .../chromium-browser_89.0.4389.90-0ubuntu0.18.04.2_amd64.deb ...\n",
            "Unpacking chromium-browser (89.0.4389.90-0ubuntu0.18.04.2) ...\n",
            "Selecting previously unselected package chromium-browser-l10n.\n",
            "Preparing to unpack .../chromium-browser-l10n_89.0.4389.90-0ubuntu0.18.04.2_all.deb ...\n",
            "Unpacking chromium-browser-l10n (89.0.4389.90-0ubuntu0.18.04.2) ...\n",
            "Selecting previously unselected package chromium-chromedriver.\n",
            "Preparing to unpack .../chromium-chromedriver_89.0.4389.90-0ubuntu0.18.04.2_amd64.deb ...\n",
            "Unpacking chromium-chromedriver (89.0.4389.90-0ubuntu0.18.04.2) ...\n",
            "Setting up chromium-codecs-ffmpeg-extra (89.0.4389.90-0ubuntu0.18.04.2) ...\n",
            "Setting up chromium-browser (89.0.4389.90-0ubuntu0.18.04.2) ...\n",
            "update-alternatives: using /usr/bin/chromium-browser to provide /usr/bin/x-www-browser (x-www-browser) in auto mode\n",
            "update-alternatives: using /usr/bin/chromium-browser to provide /usr/bin/gnome-www-browser (gnome-www-browser) in auto mode\n",
            "Setting up chromium-chromedriver (89.0.4389.90-0ubuntu0.18.04.2) ...\n",
            "Setting up chromium-browser-l10n (89.0.4389.90-0ubuntu0.18.04.2) ...\n",
            "Processing triggers for man-db (2.8.3-2ubuntu0.1) ...\n",
            "Processing triggers for hicolor-icon-theme (0.17-2) ...\n",
            "Processing triggers for mime-support (3.60ubuntu1) ...\n",
            "Processing triggers for libc-bin (2.27-3ubuntu1.2) ...\n",
            "/sbin/ldconfig.real: /usr/local/lib/python3.7/dist-packages/ideep4py/lib/libmkldnn.so.0 is not a symbolic link\n",
            "\n",
            "Collecting XlsxWriter\n",
            "\u001b[?25l  Downloading https://files.pythonhosted.org/packages/6b/41/bf1aae04932d1eaffee1fc5f8b38ca47bbbf07d765129539bc4bcce1ce0c/XlsxWriter-1.3.7-py2.py3-none-any.whl (144kB)\n",
            "\u001b[K     |████████████████████████████████| 153kB 8.1MB/s \n",
            "\u001b[?25hInstalling collected packages: XlsxWriter\n",
            "Successfully installed XlsxWriter-1.3.7\n",
            "Requirement already satisfied: xlrd in /usr/local/lib/python3.7/dist-packages (1.1.0)\n"
          ],
          "name": "stdout"
        },
        {
          "output_type": "stream",
          "text": [
            "/usr/local/lib/python3.7/dist-packages/ipykernel_launcher.py:13: DeprecationWarning: use options instead of chrome_options\n",
            "  del sys.path[0]\n",
            "/usr/local/lib/python3.7/dist-packages/ipykernel_launcher.py:14: DeprecationWarning: use options instead of chrome_options\n",
            "  \n"
          ],
          "name": "stderr"
        }
      ]
    },
    {
      "cell_type": "markdown",
      "metadata": {
        "id": "SvZO52JF_t5B"
      },
      "source": [
        "# New Section"
      ]
    },
    {
      "cell_type": "code",
      "metadata": {
        "id": "8_3TjB8CxdL5"
      },
      "source": [
        "import pandas as pd\n",
        "from pandas import DataFrame\n",
        "import urllib.request, urllib.parse, urllib.error\n",
        "from bs4 import BeautifulSoup\n",
        "from openpyxl import Workbook\n",
        "import xlsxwriter"
      ],
      "execution_count": 2,
      "outputs": []
    },
    {
      "cell_type": "code",
      "metadata": {
        "id": "xAuCaukQxkES"
      },
      "source": [
        "## retrieve html\n",
        "url = \"https://coinmarketcap.com/currencies/bitcoin/historical-data/\"\n",
        "driver.get(url)\n",
        "soup = BeautifulSoup(driver.page_source, 'html.parser')"
      ],
      "execution_count": 3,
      "outputs": []
    },
    {
      "cell_type": "code",
      "metadata": {
        "id": "ZeLQP4F6rIjH"
      },
      "source": [
        "## retrieve all <tr>\n",
        "containers = soup.findAll('tr')"
      ],
      "execution_count": 4,
      "outputs": []
    },
    {
      "cell_type": "code",
      "metadata": {
        "id": "mK9hsWG-0M-j"
      },
      "source": [
        "## delete first blank raw\n",
        "containers=containers[1:]"
      ],
      "execution_count": 5,
      "outputs": []
    },
    {
      "cell_type": "code",
      "metadata": {
        "id": "c52MXdiFvZ-b",
        "colab": {
          "base_uri": "https://localhost:8080/"
        },
        "outputId": "ed1767ac-0b94-480f-e6bf-d0918cf73468"
      },
      "source": [
        "## retrieve <td> within the row to extract : 'Date','Open','High','LOW','Close','Volume','Market_Cap'\n",
        "my_list=[]\n",
        "tot=0\n",
        "for item in containers :\n",
        "    p0=item.findAll('td')[0].get_text().strip()\n",
        "    p1=item.findAll('td')[1].get_text().strip()\n",
        "    p2=item.findAll('td')[2].get_text().strip()\n",
        "    p3=item.findAll('td')[3].get_text().strip()\n",
        "    p4=item.findAll('td')[4].get_text().strip()\n",
        "    p5=item.findAll('td')[5].get_text().strip()\n",
        "    p6=item.findAll('td')[6].get_text().strip()\n",
        "    my_list.append([p0,p1,p2,p3,p4,p5,p6])\n",
        "\n",
        "    tot=tot+1\n",
        "\n",
        "print(tot)   "
      ],
      "execution_count": 6,
      "outputs": [
        {
          "output_type": "stream",
          "text": [
            "58\n"
          ],
          "name": "stdout"
        }
      ]
    },
    {
      "cell_type": "code",
      "metadata": {
        "id": "zmF2Hy0w2zDz"
      },
      "source": [
        "df=pd.DataFrame(my_list,columns=['Date','Open','High','LOW','Close','Volume','Market_Cap'])"
      ],
      "execution_count": 7,
      "outputs": []
    },
    {
      "cell_type": "code",
      "metadata": {
        "colab": {
          "base_uri": "https://localhost:8080/",
          "height": 197
        },
        "id": "o_Sb6geAXY8a",
        "outputId": "2c8f9968-8780-4c6e-b92e-1bbd601d97d8"
      },
      "source": [
        "df.head()"
      ],
      "execution_count": 8,
      "outputs": [
        {
          "output_type": "execute_result",
          "data": {
            "text/html": [
              "<div>\n",
              "<style scoped>\n",
              "    .dataframe tbody tr th:only-of-type {\n",
              "        vertical-align: middle;\n",
              "    }\n",
              "\n",
              "    .dataframe tbody tr th {\n",
              "        vertical-align: top;\n",
              "    }\n",
              "\n",
              "    .dataframe thead th {\n",
              "        text-align: right;\n",
              "    }\n",
              "</style>\n",
              "<table border=\"1\" class=\"dataframe\">\n",
              "  <thead>\n",
              "    <tr style=\"text-align: right;\">\n",
              "      <th></th>\n",
              "      <th>Date</th>\n",
              "      <th>Open</th>\n",
              "      <th>High</th>\n",
              "      <th>LOW</th>\n",
              "      <th>Close</th>\n",
              "      <th>Volume</th>\n",
              "      <th>Market_Cap</th>\n",
              "    </tr>\n",
              "  </thead>\n",
              "  <tbody>\n",
              "    <tr>\n",
              "      <th>0</th>\n",
              "      <td>Mar 27, 2021</td>\n",
              "      <td>$55,137.57</td>\n",
              "      <td>$56,568.22</td>\n",
              "      <td>$54,242.91</td>\n",
              "      <td>$55,973.51</td>\n",
              "      <td>$47,266,542,233</td>\n",
              "      <td>$1,044,814,147,412</td>\n",
              "    </tr>\n",
              "    <tr>\n",
              "      <th>1</th>\n",
              "      <td>Mar 26, 2021</td>\n",
              "      <td>$51,683.01</td>\n",
              "      <td>$55,137.31</td>\n",
              "      <td>$51,579.86</td>\n",
              "      <td>$55,137.31</td>\n",
              "      <td>$56,652,197,978</td>\n",
              "      <td>$1,029,150,697,411</td>\n",
              "    </tr>\n",
              "    <tr>\n",
              "      <th>2</th>\n",
              "      <td>Mar 25, 2021</td>\n",
              "      <td>$52,726.75</td>\n",
              "      <td>$53,392.39</td>\n",
              "      <td>$50,856.57</td>\n",
              "      <td>$51,704.16</td>\n",
              "      <td>$67,999,812,841</td>\n",
              "      <td>$965,028,762,666</td>\n",
              "    </tr>\n",
              "    <tr>\n",
              "      <th>3</th>\n",
              "      <td>Mar 24, 2021</td>\n",
              "      <td>$54,710.49</td>\n",
              "      <td>$57,262.38</td>\n",
              "      <td>$52,514.33</td>\n",
              "      <td>$52,774.26</td>\n",
              "      <td>$70,567,223,787</td>\n",
              "      <td>$984,948,142,898</td>\n",
              "    </tr>\n",
              "    <tr>\n",
              "      <th>4</th>\n",
              "      <td>Mar 23, 2021</td>\n",
              "      <td>$54,511.66</td>\n",
              "      <td>$55,985.44</td>\n",
              "      <td>$53,470.69</td>\n",
              "      <td>$54,738.94</td>\n",
              "      <td>$56,435,023,914</td>\n",
              "      <td>$1,021,563,479,682</td>\n",
              "    </tr>\n",
              "  </tbody>\n",
              "</table>\n",
              "</div>"
            ],
            "text/plain": [
              "           Date        Open  ...           Volume          Market_Cap\n",
              "0  Mar 27, 2021  $55,137.57  ...  $47,266,542,233  $1,044,814,147,412\n",
              "1  Mar 26, 2021  $51,683.01  ...  $56,652,197,978  $1,029,150,697,411\n",
              "2  Mar 25, 2021  $52,726.75  ...  $67,999,812,841    $965,028,762,666\n",
              "3  Mar 24, 2021  $54,710.49  ...  $70,567,223,787    $984,948,142,898\n",
              "4  Mar 23, 2021  $54,511.66  ...  $56,435,023,914  $1,021,563,479,682\n",
              "\n",
              "[5 rows x 7 columns]"
            ]
          },
          "metadata": {
            "tags": []
          },
          "execution_count": 8
        }
      ]
    },
    {
      "cell_type": "code",
      "metadata": {
        "id": "Q8It4rEA3ipr"
      },
      "source": [
        "# Convert strings to numerical and Date to datetime\n",
        "df['Date']=df['Date'].str.replace(',', '')\n",
        "df['Date']=df['Date'].str.replace(' ', '-')\n",
        "df['Date'] = pd.to_datetime(df['Date'], format='%b-%d-%Y')\n",
        "df['Open']=df['Open'].str.strip('$').str.replace(',', '').astype(float)\n",
        "df['High']=df['High'].str.strip('$').str.replace(',', '').astype(float)\n",
        "df['LOW']=df['LOW'].str.strip('$').str.replace(',', '').astype(float)\n",
        "df['Close']=df['Close'].str.strip('$').str.replace(',', '').astype(float)\n",
        "df['Volume']=df['Volume'].str.strip('$').str.replace(',', '').astype(float)\n",
        "df['Market_Cap']=df['Market_Cap'].str.strip('$').str.replace(',', '').astype(float)"
      ],
      "execution_count": 9,
      "outputs": []
    },
    {
      "cell_type": "code",
      "metadata": {
        "colab": {
          "base_uri": "https://localhost:8080/",
          "height": 197
        },
        "id": "VQ5kOhHBY6se",
        "outputId": "b1352e95-6d87-48c3-f1fc-6255119ea04d"
      },
      "source": [
        "# check the changes\n",
        "df.head()"
      ],
      "execution_count": 10,
      "outputs": [
        {
          "output_type": "execute_result",
          "data": {
            "text/html": [
              "<div>\n",
              "<style scoped>\n",
              "    .dataframe tbody tr th:only-of-type {\n",
              "        vertical-align: middle;\n",
              "    }\n",
              "\n",
              "    .dataframe tbody tr th {\n",
              "        vertical-align: top;\n",
              "    }\n",
              "\n",
              "    .dataframe thead th {\n",
              "        text-align: right;\n",
              "    }\n",
              "</style>\n",
              "<table border=\"1\" class=\"dataframe\">\n",
              "  <thead>\n",
              "    <tr style=\"text-align: right;\">\n",
              "      <th></th>\n",
              "      <th>Date</th>\n",
              "      <th>Open</th>\n",
              "      <th>High</th>\n",
              "      <th>LOW</th>\n",
              "      <th>Close</th>\n",
              "      <th>Volume</th>\n",
              "      <th>Market_Cap</th>\n",
              "    </tr>\n",
              "  </thead>\n",
              "  <tbody>\n",
              "    <tr>\n",
              "      <th>0</th>\n",
              "      <td>2021-03-27</td>\n",
              "      <td>55137.57</td>\n",
              "      <td>56568.22</td>\n",
              "      <td>54242.91</td>\n",
              "      <td>55973.51</td>\n",
              "      <td>4.726654e+10</td>\n",
              "      <td>1.044814e+12</td>\n",
              "    </tr>\n",
              "    <tr>\n",
              "      <th>1</th>\n",
              "      <td>2021-03-26</td>\n",
              "      <td>51683.01</td>\n",
              "      <td>55137.31</td>\n",
              "      <td>51579.86</td>\n",
              "      <td>55137.31</td>\n",
              "      <td>5.665220e+10</td>\n",
              "      <td>1.029151e+12</td>\n",
              "    </tr>\n",
              "    <tr>\n",
              "      <th>2</th>\n",
              "      <td>2021-03-25</td>\n",
              "      <td>52726.75</td>\n",
              "      <td>53392.39</td>\n",
              "      <td>50856.57</td>\n",
              "      <td>51704.16</td>\n",
              "      <td>6.799981e+10</td>\n",
              "      <td>9.650288e+11</td>\n",
              "    </tr>\n",
              "    <tr>\n",
              "      <th>3</th>\n",
              "      <td>2021-03-24</td>\n",
              "      <td>54710.49</td>\n",
              "      <td>57262.38</td>\n",
              "      <td>52514.33</td>\n",
              "      <td>52774.26</td>\n",
              "      <td>7.056722e+10</td>\n",
              "      <td>9.849481e+11</td>\n",
              "    </tr>\n",
              "    <tr>\n",
              "      <th>4</th>\n",
              "      <td>2021-03-23</td>\n",
              "      <td>54511.66</td>\n",
              "      <td>55985.44</td>\n",
              "      <td>53470.69</td>\n",
              "      <td>54738.94</td>\n",
              "      <td>5.643502e+10</td>\n",
              "      <td>1.021563e+12</td>\n",
              "    </tr>\n",
              "  </tbody>\n",
              "</table>\n",
              "</div>"
            ],
            "text/plain": [
              "        Date      Open      High  ...     Close        Volume    Market_Cap\n",
              "0 2021-03-27  55137.57  56568.22  ...  55973.51  4.726654e+10  1.044814e+12\n",
              "1 2021-03-26  51683.01  55137.31  ...  55137.31  5.665220e+10  1.029151e+12\n",
              "2 2021-03-25  52726.75  53392.39  ...  51704.16  6.799981e+10  9.650288e+11\n",
              "3 2021-03-24  54710.49  57262.38  ...  52774.26  7.056722e+10  9.849481e+11\n",
              "4 2021-03-23  54511.66  55985.44  ...  54738.94  5.643502e+10  1.021563e+12\n",
              "\n",
              "[5 rows x 7 columns]"
            ]
          },
          "metadata": {
            "tags": []
          },
          "execution_count": 10
        }
      ]
    },
    {
      "cell_type": "code",
      "metadata": {
        "colab": {
          "base_uri": "https://localhost:8080/",
          "height": 16
        },
        "id": "5L7VCE1bm5dQ",
        "outputId": "a8759aeb-a6f2-42b9-e77f-84eaf2e3ca58"
      },
      "source": [
        "#Download excel file\n",
        "export_excel = df.to_excel ('Bitcoin_web_scrapping.xlsx')\n",
        "from google.colab import files\n",
        "files.download('Bitcoin_web_scrapping.xlsx')"
      ],
      "execution_count": 11,
      "outputs": [
        {
          "output_type": "display_data",
          "data": {
            "application/javascript": [
              "\n",
              "    async function download(id, filename, size) {\n",
              "      if (!google.colab.kernel.accessAllowed) {\n",
              "        return;\n",
              "      }\n",
              "      const div = document.createElement('div');\n",
              "      const label = document.createElement('label');\n",
              "      label.textContent = `Downloading \"${filename}\": `;\n",
              "      div.appendChild(label);\n",
              "      const progress = document.createElement('progress');\n",
              "      progress.max = size;\n",
              "      div.appendChild(progress);\n",
              "      document.body.appendChild(div);\n",
              "\n",
              "      const buffers = [];\n",
              "      let downloaded = 0;\n",
              "\n",
              "      const channel = await google.colab.kernel.comms.open(id);\n",
              "      // Send a message to notify the kernel that we're ready.\n",
              "      channel.send({})\n",
              "\n",
              "      for await (const message of channel.messages) {\n",
              "        // Send a message to notify the kernel that we're ready.\n",
              "        channel.send({})\n",
              "        if (message.buffers) {\n",
              "          for (const buffer of message.buffers) {\n",
              "            buffers.push(buffer);\n",
              "            downloaded += buffer.byteLength;\n",
              "            progress.value = downloaded;\n",
              "          }\n",
              "        }\n",
              "      }\n",
              "      const blob = new Blob(buffers, {type: 'application/binary'});\n",
              "      const a = document.createElement('a');\n",
              "      a.href = window.URL.createObjectURL(blob);\n",
              "      a.download = filename;\n",
              "      div.appendChild(a);\n",
              "      a.click();\n",
              "      div.remove();\n",
              "    }\n",
              "  "
            ],
            "text/plain": [
              "<IPython.core.display.Javascript object>"
            ]
          },
          "metadata": {
            "tags": []
          }
        },
        {
          "output_type": "display_data",
          "data": {
            "application/javascript": [
              "download(\"download_27adaa8b-6c78-4f55-8ee3-73aaf991ab79\", \"Bitcoin_web_scrapping.xlsx\", 9363)"
            ],
            "text/plain": [
              "<IPython.core.display.Javascript object>"
            ]
          },
          "metadata": {
            "tags": []
          }
        }
      ]
    },
    {
      "cell_type": "code",
      "metadata": {
        "id": "JCc7itWXt3Sj"
      },
      "source": [
        "import seaborn as sns\n",
        "import matplotlib.pyplot as plt"
      ],
      "execution_count": 12,
      "outputs": []
    },
    {
      "cell_type": "code",
      "metadata": {
        "colab": {
          "base_uri": "https://localhost:8080/",
          "height": 592
        },
        "id": "NWQraJzHt-Pd",
        "outputId": "ac21fd7e-fe04-42a6-d350-147f0168d622"
      },
      "source": [
        "# Visualize the data\n",
        "fig, axs = plt.subplots(2)\n",
        "axs[1].plot(df['Date'],df['Volume'],label='Volume')\n",
        "axs[1].plot(df['Date'],df['Market_Cap'],label='Market_Cap')\n",
        "axs[0].plot(df['Date'],df['Open'],label='Open')\n",
        "axs[0].plot(df['Date'],df['Close'],label='Close')\n",
        "plt.gcf().set_size_inches(12, 10)\n",
        "plt.legend()\n",
        "plt.show()"
      ],
      "execution_count": 13,
      "outputs": [
        {
          "output_type": "display_data",
          "data": {
            "image/png": "[encoded data removed]",
            "text/plain": [
              "<Figure size 864x720 with 2 Axes>"
            ]
          },
          "metadata": {
            "tags": [],
            "needs_background": "light"
          }
        }
      ]
    },
    {
      "cell_type": "code",
      "metadata": {
        "id": "F5enoTfIyNvw"
      },
      "source": [
        ""
      ],
      "execution_count": 13,
      "outputs": []
    }
  ]
}