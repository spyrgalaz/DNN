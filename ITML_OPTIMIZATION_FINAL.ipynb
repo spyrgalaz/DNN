{
  "nbformat": 4,
  "nbformat_minor": 0,
  "metadata": {
    "kernelspec": {
      "display_name": "Python 3",
      "language": "python",
      "name": "python3"
    },
    "language_info": {
      "codemirror_mode": {
        "name": "ipython",
        "version": 3
      },
      "file_extension": ".py",
      "mimetype": "text/x-python",
      "name": "python",
      "nbconvert_exporter": "python",
      "pygments_lexer": "ipython3",
      "version": "3.6.0"
    },
    "colab": {
      "name": "ITML_OPTIMIZATION_FINAL.ipynb",
      "provenance": [],
      "collapsed_sections": [],
      "include_colab_link": true
    }
  },
  "cells": [
    {
      "cell_type": "markdown",
      "metadata": {
        "id": "view-in-github",
        "colab_type": "text"
      },
      "source": [
        "<a href=\"https://colab.research.google.com/github/spyrgalaz/DNN/blob/main/ITML_OPTIMIZATION_FINAL.ipynb\" target=\"_parent\"><img src=\"https://colab.research.google.com/assets/colab-badge.svg\" alt=\"Open In Colab\"/></a>"
      ]
    },
    {
      "cell_type": "markdown",
      "metadata": {
        "id": "1SEh8UBUIM91"
      },
      "source": [
        "# ITML OPTIMIZATION"
      ]
    },
    {
      "cell_type": "markdown",
      "metadata": {
        "id": "rNsmUjBRIM93"
      },
      "source": [
        "### INSTALLATION PACKAGES"
      ]
    },
    {
      "cell_type": "code",
      "metadata": {
        "scrolled": false,
        "id": "KlEMRZSDIM95",
        "colab": {
          "base_uri": "https://localhost:8080/"
        },
        "outputId": "5582babf-82ef-4885-ac49-76fb38558f77"
      },
      "source": [
        "! pip install PuLP\n",
        "! pip install XlsxWriter\n",
        "! pip install xlrd"
      ],
      "execution_count": 1,
      "outputs": [
        {
          "output_type": "stream",
          "name": "stdout",
          "text": [
            "Collecting PuLP\n",
            "  Downloading PuLP-2.5.0-py3-none-any.whl (41.2 MB)\n",
            "\u001b[K     |████████████████████████████████| 41.2 MB 81 kB/s \n",
            "\u001b[?25hInstalling collected packages: PuLP\n",
            "Successfully installed PuLP-2.5.0\n",
            "Collecting XlsxWriter\n",
            "  Downloading XlsxWriter-3.0.1-py3-none-any.whl (148 kB)\n",
            "\u001b[K     |████████████████████████████████| 148 kB 7.1 MB/s \n",
            "\u001b[?25hInstalling collected packages: XlsxWriter\n",
            "Successfully installed XlsxWriter-3.0.1\n",
            "Requirement already satisfied: xlrd in /usr/local/lib/python3.7/dist-packages (1.1.0)\n"
          ]
        }
      ]
    },
    {
      "cell_type": "markdown",
      "metadata": {
        "id": "_1QEK1i_IM-D"
      },
      "source": [
        "### IMPORT PACKAGES"
      ]
    },
    {
      "cell_type": "code",
      "metadata": {
        "id": "EbT4mxWCIM-F",
        "colab": {
          "base_uri": "https://localhost:8080/"
        },
        "outputId": "1927e729-f257-4193-926c-ddcff520384f"
      },
      "source": [
        "import numpy as np\n",
        "import pandas as pd\n",
        "from scipy.optimize import linprog\n",
        "from pandas import datetime\n",
        "import pulp as plp\n",
        "from pulp  import *\n",
        "import xlsxwriter\n",
        "from openpyxl import Workbook"
      ],
      "execution_count": 2,
      "outputs": [
        {
          "output_type": "stream",
          "name": "stderr",
          "text": [
            "/usr/local/lib/python3.7/dist-packages/ipykernel_launcher.py:4: FutureWarning: The pandas.datetime class is deprecated and will be removed from pandas in a future version. Import from datetime module instead.\n",
            "  after removing the cwd from sys.path.\n"
          ]
        }
      ]
    },
    {
      "cell_type": "code",
      "metadata": {
        "id": "zVp8rlLlInq8",
        "colab": {
          "resources": {
            "http://localhost:8080/nbextensions/google.colab/files.js": {
              "data": "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",
              "ok": true,
              "headers": [
                [
                  "content-type",
                  "application/javascript"
                ]
              ],
              "status": 200,
              "status_text": ""
            }
          },
          "base_uri": "https://localhost:8080/",
          "height": 38
        },
        "outputId": "fb0d6be8-a446-4b63-ba2d-f53de7bb42a2"
      },
      "source": [
        "from google.colab import files\n",
        "uploaded = files.upload()"
      ],
      "execution_count": null,
      "outputs": [
        {
          "output_type": "display_data",
          "data": {
            "text/html": [
              "\n",
              "     <input type=\"file\" id=\"files-2149d01a-3930-476b-89f3-32f866e7ddf2\" name=\"files[]\" multiple disabled\n",
              "        style=\"border:none\" />\n",
              "     <output id=\"result-2149d01a-3930-476b-89f3-32f866e7ddf2\">\n",
              "      Upload widget is only available when the cell has been executed in the\n",
              "      current browser session. Please rerun this cell to enable.\n",
              "      </output>\n",
              "      <script src=\"/nbextensions/google.colab/files.js\"></script> "
            ],
            "text/plain": [
              "<IPython.core.display.HTML object>"
            ]
          },
          "metadata": {}
        }
      ]
    },
    {
      "cell_type": "code",
      "metadata": {
        "id": "zayYWRd9IVDC"
      },
      "source": [
        "import io"
      ],
      "execution_count": null,
      "outputs": []
    },
    {
      "cell_type": "markdown",
      "metadata": {
        "id": "B46C4KXyIM-L"
      },
      "source": [
        "### IMPORT DATA SHAPE DATA"
      ]
    },
    {
      "cell_type": "code",
      "metadata": {
        "id": "iNoPCJ2fIM-N"
      },
      "source": [
        "df1=pd.read_excel('ITML5.xlsx',sheet_name='PWI')\n",
        "df=pd.read_excel('ITML5.xlsx',sheet_name='new_rate')\n",
        "df3=pd.read_excel('ITML5.xlsx',sheet_name='FINAL MONTH')\n",
        "df4=pd.read_excel('ITML5.xlsx',sheet_name='ΜΗΝΕΣ')\n",
        "\n",
        "dfTHWP=pd.read_excel('ITML5.xlsx',sheet_name='CONSTRAINTS_WP')\n",
        "\n",
        "dfWW_A=df1.loc[df1['ADMIN']=='A']\n",
        "\n",
        "\n",
        "dfNNE=df.loc[df['COUNTRY_CODE']=='E']\n",
        "dfNNC=df.loc[df['COUNTRY_CODE']=='C']\n",
        "dfNNB=df.loc[df['COUNTRY_CODE']=='E/C']\n",
        "dfNN_A=df.loc[df['ADMIN']=='A']\n",
        "\n",
        "\n",
        "df=df.drop(columns=['COUNTRY_CODE','ADMIN'])\n",
        "df1=df1.drop(columns=['ADMIN'])\n",
        "\n",
        "dfNN=df.fillna(0)                ###### ΑΛΛΑΓΗ       \n",
        "\n",
        "dfNN_A=dfNN_A.set_index(['NAME'])\n",
        "dfWW_A=dfWW_A.set_index(['INDEX_PR_WP']) ##### ΑΛΛΑΓΗ ΓΙΑ  ADMIN\n",
        "dfNNE=dfNNE.set_index(['NAME'])\n",
        "dfNNC=dfNNC.set_index(['NAME'])\n",
        "dfNNB=dfNNB.set_index(['NAME'])\n",
        "\n",
        "dfWW=df1.set_index(['INDEX_PR_WP']) ####### ΔΕΙΚΤΕΣ\n",
        "\n",
        "dfNN=dfNN.set_index(['NAME'])        ####### ΑΛΛΑΓΗ \n",
        "\n",
        "dfMM=df4.set_index(['ΜΗΝΕΣ'])\n",
        "\n",
        "\n",
        "dfTHWP=dfTHWP.set_index('WP')\n",
        "\n",
        "print(df3.head())\n",
        "df3=pd.concat([df3]*39, ignore_index=False) ###### ΑΤΟΜΑ = 39\n",
        "#df3=df3.set_index(['DATE'])\n",
        "print(df3.head(49))                         ###### ΗΜΕΡΟΜΗΝΙΕΣ = 48(12Χ4)   \n",
        "print(df3.shape)\n",
        "\n",
        "df3=df3.melt( id_vars=['DATE'],var_name='PR/WP')\n",
        "df3 = df3.sort_values(by = ['DATE','PR/WP'], ascending = [True,True])\n",
        "df3=df3.reset_index(drop=True)\n",
        "print(df3.head())\n",
        "df3.isna().any()\n",
        "\n",
        "\n",
        "print(df.shape)\n",
        "df=df.fillna(0)\n",
        "\n",
        "df=pd.concat([df]*86, ignore_index=True)     ########  ΕΡΓΑ = 106\n",
        "df=df.melt( id_vars=['NAME'],var_name='DATE')\n",
        "print(df.head(40))                              ####### ΓΙΑ 39 ΑΤΟΜΑ +1\n",
        "\n",
        "\n",
        "df3['NAME']=df['NAME']\n",
        "df3['RATE']=df['value']\n",
        "df3['RATE_IN_WP']=df3['value']*df3['RATE']\n",
        "\n",
        "df3.head(4)                                      ####### ΓΙΑ 39 ΑΤΟΜΑ +1\n",
        "\n",
        "df3=df3[df3.RATE_IN_WP !=0]                       ####### ΑΛΛΑΓΗ\n",
        "\n",
        "dftotal=df3.set_index(['DATE','NAME','PR/WP'])\n",
        "\n",
        "print(dftotal.index)\n",
        "print(dftotal.shape)\n"
      ],
      "execution_count": null,
      "outputs": []
    },
    {
      "cell_type": "markdown",
      "metadata": {
        "id": "lQ2-_l23IM-T"
      },
      "source": [
        "### CREATE INDEX LIST"
      ]
    },
    {
      "cell_type": "code",
      "metadata": {
        "id": "-PM4xP1yIM-U"
      },
      "source": [
        "#p=dfkar.index.to_list()\n",
        "n_A=dfNN_A.index.to_list()\n",
        "w_A=dfWW_A.index.to_list()\n",
        "t=dftotal.index.to_list()\n",
        "w=dfTHWP.index.to_list()\n",
        "n=dfNN.index.to_list()\n",
        "nC=dfNNC.index.to_list()\n",
        "nE=dfNNE.index.to_list()\n",
        "nB=dfNNB.index.to_list()"
      ],
      "execution_count": null,
      "outputs": []
    },
    {
      "cell_type": "code",
      "metadata": {
        "id": "GaHiZcLYIM-Z"
      },
      "source": [
        "import time\n",
        "start_time = time.clock()"
      ],
      "execution_count": null,
      "outputs": []
    },
    {
      "cell_type": "markdown",
      "metadata": {
        "id": "3fW9lJwOIM-g"
      },
      "source": [
        "### CREATE DECISION VARIABLES"
      ]
    },
    {
      "cell_type": "code",
      "metadata": {
        "id": "FsR3LQxFIM-g"
      },
      "source": [
        "HOURS = plp.LpVariable.dicts(\"HOURS\",\n",
        "                                     ((i,j,k) for i, j, k in dftotal.index),\n",
        "                                     lowBound=0,upBound=20,\n",
        "                                     cat='Continuous')"
      ],
      "execution_count": null,
      "outputs": []
    },
    {
      "cell_type": "code",
      "metadata": {
        "id": "gQgZVcedIM-m"
      },
      "source": [
        "model = plp.LpProblem(\"hours_maximize\", plp.LpMaximize)"
      ],
      "execution_count": null,
      "outputs": []
    },
    {
      "cell_type": "markdown",
      "metadata": {
        "id": "BzxFIBGgIM-r"
      },
      "source": [
        "### CREATE OBJECTIVE FUNCTION"
      ]
    },
    {
      "cell_type": "code",
      "metadata": {
        "id": "Q72Fx1c2IM-s"
      },
      "source": [
        "model += pulp.lpSum(\n",
        "    [HOURS[i,j,k]*dftotal.loc[(i,j,k),'RATE_IN_WP'] for i, j, k in dftotal.index ]\n",
        ")"
      ],
      "execution_count": null,
      "outputs": []
    },
    {
      "cell_type": "markdown",
      "metadata": {
        "id": "vorWP2c9IM-w"
      },
      "source": [
        "### CONSTRAINTS FOR ADMIN"
      ]
    },
    {
      "cell_type": "code",
      "metadata": {
        "id": "1R3CMHSiIM-x"
      },
      "source": [
        "for i in dfMM.index :\n",
        "    for j in dfNN.index :\n",
        "        if j in n_A :\n",
        "            model +=pulp.lpSum([HOURS[i,j,k]  for k in dfWW.index if k  not in w_A if (i,j,k) in dftotal.index ])==0"
      ],
      "execution_count": null,
      "outputs": []
    },
    {
      "cell_type": "code",
      "metadata": {
        "id": "16og4vxpIM-2"
      },
      "source": [
        "for i in dfMM.index :\n",
        "    for j in dfNN.index :\n",
        "        if j in n_A :\n",
        "            model +=pulp.lpSum([HOURS[i,j,k] for i in dfMM.index   for k in dfWW.index if k   in w_A if (i,j,k) in dftotal.index ])>=100"
      ],
      "execution_count": null,
      "outputs": []
    },
    {
      "cell_type": "markdown",
      "metadata": {
        "id": "u-d9VNE4IM-8"
      },
      "source": [
        "### CONSTRAINTS TOTAL REMAINING HOURS"
      ]
    },
    {
      "cell_type": "code",
      "metadata": {
        "id": "-GlF3AKbIM-9"
      },
      "source": [
        "ho=0\n",
        "for k in dfWW.index :\n",
        "   if k in w :\n",
        "     model += pulp.lpSum([HOURS[i,j,k] for i in dfMM.index  for j in dfNN.index if (i,j,k) in dftotal.index  ])==dfTHWP.loc[k,'TOT_HOURS_WP']\n",
        "     ho=ho+1\n",
        "ho  "
      ],
      "execution_count": null,
      "outputs": []
    },
    {
      "cell_type": "markdown",
      "metadata": {
        "id": "615xRFLVIM_C"
      },
      "source": [
        "### CONSTRAINTS FOR MANAGERS"
      ]
    },
    {
      "cell_type": "code",
      "metadata": {
        "id": "8UZCF3-wIM_D"
      },
      "source": [
        "for i in dfMM.index :\n",
        "    for k in dfWW.index[0:48] :\n",
        "        if (i,'Μπράβος Γεώργιος',k) in dftotal.index :\n",
        "            model +=HOURS[i,'Μπράβος Γεώργιος',k]>=1\n",
        "    "
      ],
      "execution_count": null,
      "outputs": []
    },
    {
      "cell_type": "code",
      "metadata": {
        "id": "KoFFRXWDIM_H"
      },
      "source": [
        "for i in dfMM.index :\n",
        "    for k in dfWW.index[48:] :\n",
        "        if (i,'Αλεξόπουλος Δημήτριος',k) in dftotal.index : \n",
        "            model +=HOURS[i,'Αλεξόπουλος Δημήτριος',k]>=1"
      ],
      "execution_count": null,
      "outputs": []
    },
    {
      "cell_type": "markdown",
      "metadata": {
        "id": "VBqV_Q4mIM_L"
      },
      "source": [
        "### CONSTRAINTS FOR TOTAL HOURS PER WP"
      ]
    },
    {
      "cell_type": "code",
      "metadata": {
        "id": "-bQu4GqpIM_M"
      },
      "source": [
        "for i in dfMM.index : ### GREECE - CYPRUS\n",
        "    for j in dfNN.index :\n",
        "        if j in nB:\n",
        "            if j not in n_A :\n",
        "                model +=pulp.lpSum([HOURS[i,j,k]  for k in dfWW.index if k in dfWW.index[0:48] if (i,j,k) in dftotal.index ])<=dfMM.loc[i,'CON_MON_ HELLAS']\n",
        "                model +=pulp.lpSum([HOURS[i,j,k]  for k in dfWW.index if k in dfWW.index[48:]  if (i,j,k) in dftotal.index ])<=dfMM.loc[i,'CON_MON_CYP']\n",
        "            else : \n",
        "                model +=pulp.lpSum([HOURS[i,j,k]  for k in dfWW.index if k in dfWW.index[0:48] if k in w_A if (i,j,k) in dftotal.index ])<=dfMM.loc[i,'CON_MON_ HELLAS']\n",
        "                model +=pulp.lpSum([HOURS[i,j,k]  for k in dfWW.index if k in dfWW.index[48:]  if k in w_A if (i,j,k) in dftotal.index ])<=dfMM.loc[i,'CON_MON_CYP']\n",
        "                "
      ],
      "execution_count": null,
      "outputs": []
    },
    {
      "cell_type": "code",
      "metadata": {
        "id": "SAD3f4dLIM_R"
      },
      "source": [
        "for i in dfMM.index : ### GREECE\n",
        "    for j in dfNN.index :\n",
        "        if j in nE:\n",
        "            if j not in n_A :\n",
        "                model +=pulp.lpSum([HOURS[i,j,k]  for k in dfWW.index if k in dfWW.index[0:48] if (i,j,k) in dftotal.index ])<=dfMM.loc[i,'CON_MON_ HELLAS']\n",
        "            else :\n",
        "                model +=pulp.lpSum([HOURS[i,j,k]  for k in dfWW.index if k in dfWW.index[0:48 ]if k in w_A if (i,j,k) in dftotal.index ])<=dfMM.loc[i,'CON_MON_ HELLAS']"
      ],
      "execution_count": null,
      "outputs": []
    },
    {
      "cell_type": "code",
      "metadata": {
        "id": "33Bvw07nIM_W"
      },
      "source": [
        "for i in dfMM.index : ### CYPRUS\n",
        "    for j in dfNN.index :\n",
        "        if j in nC:\n",
        "            if j not in n_A :\n",
        "                model +=pulp.lpSum([HOURS[i,j,k]  for k in dfWW.index if k in dfWW.index[48:] if (i,j,k) in dftotal.index ])<=dfMM.loc[i,'CON_MON_CYP']\n",
        "            else :\n",
        "                 model +=pulp.lpSum([HOURS[i,j,k]  for k in dfWW.index if k in dfWW.index[48:] if k in w_A if (i,j,k) in dftotal.index ])<=dfMM.loc[i,'CON_MON_CYP']                                                                                                                     "
      ],
      "execution_count": null,
      "outputs": []
    },
    {
      "cell_type": "markdown",
      "metadata": {
        "id": "re011qE9IM_a"
      },
      "source": [
        "### CONSTRAINTS FOR TOTAL HOURS PER PERSON PER YEAR "
      ]
    },
    {
      "cell_type": "code",
      "metadata": {
        "id": "2d_o5-GZIM_b"
      },
      "source": [
        "for j in dfNN.index :  ### BOTH GREECE CYPRUS\n",
        "    if j in nB:\n",
        "        if j  in n_A :\n",
        "            model +=pulp.lpSum([HOURS[i,j,k] for i  in dfMM.index[0:12]   for k in dfWW.index if k in w_A  if (i,j,k) in dftotal.index ])>=0\n",
        "            model +=pulp.lpSum([HOURS[i,j,k] for i  in dfMM.index[12:24]  for k in dfWW.index if k in w_A if (i,j,k) in dftotal.index ])>=0\n",
        "            model +=pulp.lpSum([HOURS[i,j,k] for i  in dfMM.index[24:36]  for k in dfWW.index if k in w_A if (i,j,k) in dftotal.index ])>=0\n",
        "            model +=pulp.lpSum([HOURS[i,j,k] for i  in dfMM.index[36:]    for k in dfWW.index if k in w_A if (i,j,k) in dftotal.index ])>=0 \n",
        "\n",
        "for j in dfNN.index :  ### BOTH GREECE CYPRUS\n",
        "    if j in nB:\n",
        "        if j not  in n_A :     \n",
        "            model +=pulp.lpSum([HOURS[i,j,k] for i  in dfMM.index[0:12]  for k in dfWW.index if (i,j,k) in dftotal.index ])<=1720\n",
        "            model +=pulp.lpSum([HOURS[i,j,k] for i  in dfMM.index[0:12]  for k in dfWW.index if (i,j,k) in dftotal.index ])<=1720\n",
        "            model +=pulp.lpSum([HOURS[i,j,k] for i  in dfMM.index[0:12]  for k in dfWW.index if (i,j,k) in dftotal.index ])<=1720\n",
        "            model +=pulp.lpSum([HOURS[i,j,k] for i  in dfMM.index[0:12]  for k in dfWW.index if (i,j,k) in dftotal.index ])<=1720 \n",
        "        "
      ],
      "execution_count": null,
      "outputs": []
    },
    {
      "cell_type": "code",
      "metadata": {
        "id": "YVshJhMkIM_f"
      },
      "source": [
        "for j in dfNN.index :  ### GREECE      \n",
        "    if j  in nE :\n",
        "        if j in n_A :\n",
        "            model +=pulp.lpSum([HOURS[i,j,k] for  i in dfMM.index[0:12]   for k in dfWW.index[0:48] if k in w_A  if (i,j,k) in dftotal.index ])<=1720\n",
        "            model +=pulp.lpSum([HOURS[i,j,k] for  i in dfMM.index[12:24]  for k in dfWW.index[0:48] if k in w_A  if (i,j,k) in dftotal.index ])<=1720\n",
        "            model +=pulp.lpSum([HOURS[i,j,k] for  i in dfMM.index[24:36]  for k in dfWW.index[0:48] if k in w_A  if (i,j,k) in dftotal.index ])<=1720\n",
        "            model +=pulp.lpSum([HOURS[i,j,k] for  i in dfMM.index[36:]    for k in dfWW.index[0:48] if k in w_A  if (i,j,k) in dftotal.index ])<=1720  \n",
        "        \n",
        "for j in dfNN.index :  ### GREECE      \n",
        "    if j  in nE :\n",
        "        if j not in n_A :      \n",
        "            model +=pulp.lpSum([HOURS[i,j,k] for i in dfMM.index[0:12]   for k in dfWW.index[0:48] if (i,j,k) in dftotal.index ])<=1720\n",
        "            model +=pulp.lpSum([HOURS[i,j,k] for i in dfMM.index[12:24]  for k in dfWW.index[0:48] if (i,j,k) in dftotal.index ])<=1720\n",
        "            model +=pulp.lpSum([HOURS[i,j,k] for i in dfMM.index[24:36]  for k in dfWW.index[0:48] if (i,j,k) in dftotal.index ])<=1720\n",
        "            model +=pulp.lpSum([HOURS[i,j,k] for i in dfMM.index[36:]    for k in dfWW.index[0:48] if (i,j,k) in dftotal.index ])<=1720"
      ],
      "execution_count": null,
      "outputs": []
    },
    {
      "cell_type": "code",
      "metadata": {
        "id": "PQl69UNIIM_j"
      },
      "source": [
        "for j in dfNN.index :  ### CYPRUS  \n",
        "    if j  in nC :\n",
        "        if j in n_A :\n",
        "            model +=pulp.lpSum([HOURS[i,j,k] for i in dfMM.index[0:12]   for k in dfWW.index[48:] if k in w_A  if (i,j,k) in dftotal.index ])<=1720\n",
        "            model +=pulp.lpSum([HOURS[i,j,k] for i in dfMM.index[12:24]  for k in dfWW.index[48:] if k in w_A  if (i,j,k) in dftotal.index ])<=1720\n",
        "            model +=pulp.lpSum([HOURS[i,j,k] for i in dfMM.index[24:36]  for k in dfWW.index[48:] if k in w_A  if (i,j,k) in dftotal.index ])<=1720\n",
        "            model +=pulp.lpSum([HOURS[i,j,k] for i in dfMM.index[36:]    for k in dfWW.index[48:] if k in w_A  if (i,j,k) in dftotal.index ])<=1720 \n",
        "\n",
        "for j in dfNN.index :  ### CYPRUS  \n",
        "    if j  in nC :\n",
        "        if j not in n_A :            \n",
        "            model +=pulp.lpSum([HOURS[i,j,k] for i in dfMM.index[0:12]   for k in dfWW.index[48:] if (i,j,k) in dftotal.index ])<=1720\n",
        "            model +=pulp.lpSum([HOURS[i,j,k] for i in dfMM.index[12:24]  for k in dfWW.index[48:] if (i,j,k) in dftotal.index ])<=1720\n",
        "            model +=pulp.lpSum([HOURS[i,j,k] for i in dfMM.index[24:36]  for k in dfWW.index[48:] if (i,j,k) in dftotal.index ])<=1720\n",
        "            model +=pulp.lpSum([HOURS[i,j,k] for i in dfMM.index[36:]    for k in dfWW.index[48:] if (i,j,k) in dftotal.index ])<=1720\n",
        "        "
      ],
      "execution_count": null,
      "outputs": []
    },
    {
      "cell_type": "markdown",
      "metadata": {
        "id": "jP0wRYenIM_n"
      },
      "source": [
        "### SOLVER"
      ]
    },
    {
      "cell_type": "code",
      "metadata": {
        "id": "cZjtwI4AIM_o"
      },
      "source": [
        "model.solve()\n",
        "plp.LpStatus[model.status]"
      ],
      "execution_count": null,
      "outputs": []
    },
    {
      "cell_type": "markdown",
      "metadata": {
        "id": "xTHAE5sBIM_w"
      },
      "source": [
        "### OUTPUT"
      ]
    },
    {
      "cell_type": "code",
      "metadata": {
        "id": "gO5DSXTrIM_x"
      },
      "source": [
        "output = []\n",
        "for i, j, k in HOURS:\n",
        "    var_output = {\n",
        "        'i': i,\n",
        "        'j': j,\n",
        "        'k': k,\n",
        "        'HOURS': HOURS[(i, j, k)].varValue,\n",
        "    }\n",
        "    output.append(var_output)\n",
        "output_df1 = pd.DataFrame.from_records(output).sort_values(['i', 'j','k'])\n",
        "#output_df1.set_index(['i', 'j','k'], inplace=True)\n"
      ],
      "execution_count": null,
      "outputs": []
    },
    {
      "cell_type": "code",
      "metadata": {
        "id": "1IoPo5LtIM_1"
      },
      "source": [
        "output_df1=output_df1[output_df1.HOURS !=0]\n",
        "output_df1.shape"
      ],
      "execution_count": null,
      "outputs": []
    },
    {
      "cell_type": "code",
      "metadata": {
        "id": "haAd_Qz9IM_5"
      },
      "source": [
        "print(output_df1.isna().any())\n",
        "output_df1['HOURS'].sum()"
      ],
      "execution_count": null,
      "outputs": []
    },
    {
      "cell_type": "code",
      "metadata": {
        "id": "W3519QW0INAC"
      },
      "source": [
        "print( time.clock() - start_time, \"seconds\")"
      ],
      "execution_count": null,
      "outputs": []
    },
    {
      "cell_type": "code",
      "metadata": {
        "id": "KjPiQprWC8ZY"
      },
      "source": [
        "output_df1=pd.pivot_table(output_df1, index=['j','k'], columns='i',  values='HOURS')\n",
        "output_df2=output_df1.fillna(0)\n",
        "output_df2"
      ],
      "execution_count": null,
      "outputs": []
    },
    {
      "cell_type": "code",
      "metadata": {
        "id": "mP2A-mF9IXrA"
      },
      "source": [
        "output_df2.to_excel('outfinal_colab.xlsx')"
      ],
      "execution_count": null,
      "outputs": []
    },
    {
      "cell_type": "code",
      "metadata": {
        "id": "-qwci66tIkL7"
      },
      "source": [
        "from google.colab import files\n",
        "files.download('outfinal_colab.xlsx')"
      ],
      "execution_count": null,
      "outputs": []
    }
  ]
}