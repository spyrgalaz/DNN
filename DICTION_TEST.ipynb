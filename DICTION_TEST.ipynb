{
  "nbformat": 4,
  "nbformat_minor": 0,
  "metadata": {
    "colab": {
      "name": "DICTION_TEST.ipynb",
      "provenance": [],
      "authorship_tag": "ABX9TyMccfsfa8SPlsnB8UBNUJg1",
      "include_colab_link": true
    },
    "kernelspec": {
      "name": "python3",
      "display_name": "Python 3"
    }
  },
  "cells": [
    {
      "cell_type": "markdown",
      "metadata": {
        "id": "view-in-github",
        "colab_type": "text"
      },
      "source": [
        "<a href=\"https://colab.research.google.com/github/spyrgalaz/genrot/blob/main/DICTION_TEST.ipynb\" target=\"_parent\"><img src=\"https://colab.research.google.com/assets/colab-badge.svg\" alt=\"Open In Colab\"/></a>"
      ]
    },
    {
      "cell_type": "code",
      "metadata": {
        "id": "UVwh_s4hAVM5"
      },
      "source": [
        "thisdict = {\r\n",
        "  \"brand\": \"Ford\",\r\n",
        "  \"model\": \"Mustang\",\r\n",
        "  \"year\": 1964\r\n",
        "}"
      ],
      "execution_count": null,
      "outputs": []
    },
    {
      "cell_type": "code",
      "metadata": {
        "colab": {
          "base_uri": "https://localhost:8080/"
        },
        "id": "UCbph3l9Aek1",
        "outputId": "edf7cf8f-ad10-4834-88e4-ac30dd0a6181"
      },
      "source": [
        "thisdict"
      ],
      "execution_count": null,
      "outputs": [
        {
          "output_type": "execute_result",
          "data": {
            "text/plain": [
              "{'brand': 'Ford', 'model': 'Mustang', 'year': 1964}"
            ]
          },
          "metadata": {
            "tags": []
          },
          "execution_count": 4
        }
      ]
    },
    {
      "cell_type": "code",
      "metadata": {
        "colab": {
          "base_uri": "https://localhost:8080/"
        },
        "id": "AcF8qFdZGcZ4",
        "outputId": "4702bc0f-6022-4174-f9b3-456c9628b0d1"
      },
      "source": [
        "thisdict.keys()"
      ],
      "execution_count": null,
      "outputs": [
        {
          "output_type": "execute_result",
          "data": {
            "text/plain": [
              "dict_keys(['brand', 'model', 'year'])"
            ]
          },
          "metadata": {
            "tags": []
          },
          "execution_count": 28
        }
      ]
    },
    {
      "cell_type": "code",
      "metadata": {
        "colab": {
          "base_uri": "https://localhost:8080/",
          "height": 35
        },
        "id": "gJuVK4e2AhUG",
        "outputId": "75f21a37-2735-4264-8509-615763747640"
      },
      "source": [
        "l=list(thisdict.items())\r\n",
        "l[0][1]"
      ],
      "execution_count": null,
      "outputs": [
        {
          "output_type": "execute_result",
          "data": {
            "application/vnd.google.colaboratory.intrinsic+json": {
              "type": "string"
            },
            "text/plain": [
              "'Ford'"
            ]
          },
          "metadata": {
            "tags": []
          },
          "execution_count": 44
        }
      ]
    },
    {
      "cell_type": "code",
      "metadata": {
        "colab": {
          "base_uri": "https://localhost:8080/"
        },
        "id": "ZrMTBFcLDOh6",
        "outputId": "e9fe38c7-50ce-4960-fc83-79ec641d1504"
      },
      "source": [
        "l[0]"
      ],
      "execution_count": null,
      "outputs": [
        {
          "output_type": "execute_result",
          "data": {
            "text/plain": [
              "('brand', 'Ford')"
            ]
          },
          "metadata": {
            "tags": []
          },
          "execution_count": 22
        }
      ]
    },
    {
      "cell_type": "code",
      "metadata": {
        "id": "dWp-ybgSEdJu"
      },
      "source": [
        "t=[(value,key) for  key, value in thisdict.items()]"
      ],
      "execution_count": null,
      "outputs": []
    },
    {
      "cell_type": "code",
      "metadata": {
        "colab": {
          "base_uri": "https://localhost:8080/"
        },
        "id": "Og1gPONLGB-M",
        "outputId": "e9df3297-88d7-4dbf-dae2-94104b9c5e32"
      },
      "source": [
        "t"
      ],
      "execution_count": null,
      "outputs": [
        {
          "output_type": "execute_result",
          "data": {
            "text/plain": [
              "[('Ford', 'brand'), ('Mustang', 'model'), (1964, 'year')]"
            ]
          },
          "metadata": {
            "tags": []
          },
          "execution_count": 24
        }
      ]
    },
    {
      "cell_type": "code",
      "metadata": {
        "id": "rRw8L_6JGCtN"
      },
      "source": [
        "dicnew=dict([(value,key) for  key, value in thisdict.items()])"
      ],
      "execution_count": null,
      "outputs": []
    },
    {
      "cell_type": "code",
      "metadata": {
        "colab": {
          "base_uri": "https://localhost:8080/"
        },
        "id": "V8kegohkGQEr",
        "outputId": "3276e2f7-e293-410d-df35-9ea45ad3faed"
      },
      "source": [
        "dicnew.keys()"
      ],
      "execution_count": null,
      "outputs": [
        {
          "output_type": "execute_result",
          "data": {
            "text/plain": [
              "dict_keys(['Ford', 'Mustang', 1964])"
            ]
          },
          "metadata": {
            "tags": []
          },
          "execution_count": 27
        }
      ]
    },
    {
      "cell_type": "code",
      "metadata": {
        "id": "NLwn6JchGVSz"
      },
      "source": [
        "PPP = {\r\n",
        "  \"N1\": 1,\r\n",
        "  \"N2\": 2,\r\n",
        "  \"N3\": 3\r\n",
        "}"
      ],
      "execution_count": null,
      "outputs": []
    },
    {
      "cell_type": "code",
      "metadata": {
        "id": "ZZHm9-FmIsQb"
      },
      "source": [
        "PPP={}\r\n",
        "for i in range(0,3) :\r\n",
        "  key=l[i][0]\r\n",
        "  PPP[key]=\"W_{}\".format(i)\r\n",
        "  "
      ],
      "execution_count": null,
      "outputs": []
    },
    {
      "cell_type": "code",
      "metadata": {
        "colab": {
          "base_uri": "https://localhost:8080/"
        },
        "id": "b5Q4qDzGLMyB",
        "outputId": "db9b39b7-8ec1-47d2-df81-a54d12b50996"
      },
      "source": [
        "PPP"
      ],
      "execution_count": null,
      "outputs": [
        {
          "output_type": "execute_result",
          "data": {
            "text/plain": [
              "{'brand': 'W_0', 'model': 'W_1', 'year': 'W_2'}"
            ]
          },
          "metadata": {
            "tags": []
          },
          "execution_count": 57
        }
      ]
    },
    {
      "cell_type": "code",
      "metadata": {
        "id": "8GBZK3tyLRhW"
      },
      "source": [
        "gggg=' '.join([PPP.get(i, '?') for i in thisdict])"
      ],
      "execution_count": null,
      "outputs": []
    },
    {
      "cell_type": "code",
      "metadata": {
        "colab": {
          "base_uri": "https://localhost:8080/",
          "height": 35
        },
        "id": "w3-PlhELMDqE",
        "outputId": "3833fdf3-ee00-4eb2-f5f8-0f3dd13d7465"
      },
      "source": [
        "gggg"
      ],
      "execution_count": null,
      "outputs": [
        {
          "output_type": "execute_result",
          "data": {
            "application/vnd.google.colaboratory.intrinsic+json": {
              "type": "string"
            },
            "text/plain": [
              "'W_0 W_1 W_2'"
            ]
          },
          "metadata": {
            "tags": []
          },
          "execution_count": 59
        }
      ]
    },
    {
      "cell_type": "code",
      "metadata": {
        "colab": {
          "base_uri": "https://localhost:8080/"
        },
        "id": "wd4L82HwME78",
        "outputId": "b7be7eac-6978-4aab-a5ce-f0a0580edfb7"
      },
      "source": [
        " for i in thisdict :\r\n",
        "   print(i)"
      ],
      "execution_count": null,
      "outputs": [
        {
          "output_type": "stream",
          "text": [
            "brand\n",
            "model\n",
            "year\n"
          ],
          "name": "stdout"
        }
      ]
    },
    {
      "cell_type": "code",
      "metadata": {
        "id": "lMk15sI9MSLS"
      },
      "source": [
        "sheldon_quotes=[\"You're afraid of insects and women, Ladybugs must render you catatonic.\",'Scissors cuts paper, paper covers rock, rock crushes lizard, lizard poisons Spock, Spock smashes scissors, scissors decapitates lizard, lizard eats paper, paper disproves Spock, Spock vaporizes rock, and as it always has, rock crushes scissors.']"
      ],
      "execution_count": null,
      "outputs": []
    },
    {
      "cell_type": "code",
      "metadata": {
        "colab": {
          "base_uri": "https://localhost:8080/",
          "height": 53
        },
        "id": "C3KnXqCxRwTl",
        "outputId": "71f9b657-af2a-4cd2-adb9-d33f2c65edae"
      },
      "source": [
        "sheldon_quotes=' '.join(sheldon_quotes)\r\n",
        "sheldon_quotes"
      ],
      "execution_count": null,
      "outputs": [
        {
          "output_type": "execute_result",
          "data": {
            "application/vnd.google.colaboratory.intrinsic+json": {
              "type": "string"
            },
            "text/plain": [
              "\"You're afraid of insects and women, Ladybugs must render you catatonic. Scissors cuts paper, paper covers rock, rock crushes lizard, lizard poisons Spock, Spock smashes scissors, scissors decapitates lizard, lizard eats paper, paper disproves Spock, Spock vaporizes rock, and as it always has, rock crushes scissors.\""
            ]
          },
          "metadata": {
            "tags": []
          },
          "execution_count": 13
        }
      ]
    },
    {
      "cell_type": "code",
      "metadata": {
        "colab": {
          "base_uri": "https://localhost:8080/"
        },
        "id": "S7bCfCRxsuJR",
        "outputId": "62f88f1c-975c-475f-bc49-ad82c1d96b5a"
      },
      "source": [
        "all_words = sheldon_quotes.split(\" \")\r\n",
        "all_words"
      ],
      "execution_count": null,
      "outputs": [
        {
          "output_type": "execute_result",
          "data": {
            "text/plain": [
              "[\"You're\",\n",
              " 'afraid',\n",
              " 'of',\n",
              " 'insects',\n",
              " 'and',\n",
              " 'women,',\n",
              " 'Ladybugs',\n",
              " 'must',\n",
              " 'render',\n",
              " 'you',\n",
              " 'catatonic.',\n",
              " 'Scissors',\n",
              " 'cuts',\n",
              " 'paper,',\n",
              " 'paper',\n",
              " 'covers',\n",
              " 'rock,',\n",
              " 'rock',\n",
              " 'crushes',\n",
              " 'lizard,',\n",
              " 'lizard',\n",
              " 'poisons',\n",
              " 'Spock,',\n",
              " 'Spock',\n",
              " 'smashes',\n",
              " 'scissors,',\n",
              " 'scissors',\n",
              " 'decapitates',\n",
              " 'lizard,',\n",
              " 'lizard',\n",
              " 'eats',\n",
              " 'paper,',\n",
              " 'paper',\n",
              " 'disproves',\n",
              " 'Spock,',\n",
              " 'Spock',\n",
              " 'vaporizes',\n",
              " 'rock,',\n",
              " 'and',\n",
              " 'as',\n",
              " 'it',\n",
              " 'always',\n",
              " 'has,',\n",
              " 'rock',\n",
              " 'crushes',\n",
              " 'scissors.']"
            ]
          },
          "metadata": {
            "tags": []
          },
          "execution_count": 14
        }
      ]
    },
    {
      "cell_type": "code",
      "metadata": {
        "colab": {
          "base_uri": "https://localhost:8080/"
        },
        "id": "gz1qy6KvTsqM",
        "outputId": "b106d526-8137-48db-a318-b325185f0b2e"
      },
      "source": [
        "all_words[0:2]"
      ],
      "execution_count": null,
      "outputs": [
        {
          "output_type": "execute_result",
          "data": {
            "text/plain": [
              "[\"You're\", 'afraid']"
            ]
          },
          "metadata": {
            "tags": []
          },
          "execution_count": 16
        }
      ]
    },
    {
      "cell_type": "code",
      "metadata": {
        "colab": {
          "base_uri": "https://localhost:8080/"
        },
        "id": "cQq_zD6vs0i4",
        "outputId": "5333efd2-5647-4e3c-d55b-65bc7402ea8d"
      },
      "source": [
        "unique_words = list(set(all_words))\r\n",
        "unique_words"
      ],
      "execution_count": null,
      "outputs": [
        {
          "output_type": "execute_result",
          "data": {
            "text/plain": [
              "['',\n",
              " 'i',\n",
              " 'h',\n",
              " 'b',\n",
              " 'Y',\n",
              " 'n',\n",
              " 'v',\n",
              " 'z',\n",
              " 'c',\n",
              " 'o',\n",
              " 'l',\n",
              " ',',\n",
              " 'a',\n",
              " 'g',\n",
              " 'u',\n",
              " 'f',\n",
              " 't',\n",
              " 'e',\n",
              " 'L',\n",
              " \"'\",\n",
              " 'm',\n",
              " 'p',\n",
              " 's',\n",
              " 'y',\n",
              " 'd',\n",
              " 'w',\n",
              " 'k',\n",
              " '.',\n",
              " 'S',\n",
              " 'r']"
            ]
          },
          "metadata": {
            "tags": []
          },
          "execution_count": 7
        }
      ]
    },
    {
      "cell_type": "code",
      "metadata": {
        "colab": {
          "base_uri": "https://localhost:8080/"
        },
        "id": "lbDzxkRDtgcs",
        "outputId": "ed9a3c71-c368-4ca8-b5c0-d84d5d49a978"
      },
      "source": [
        "t=sorted(unique_words)\r\n",
        "t"
      ],
      "execution_count": null,
      "outputs": [
        {
          "output_type": "execute_result",
          "data": {
            "text/plain": [
              "['',\n",
              " \"'\",\n",
              " ',',\n",
              " '.',\n",
              " 'L',\n",
              " 'S',\n",
              " 'Y',\n",
              " 'a',\n",
              " 'b',\n",
              " 'c',\n",
              " 'd',\n",
              " 'e',\n",
              " 'f',\n",
              " 'g',\n",
              " 'h',\n",
              " 'i',\n",
              " 'k',\n",
              " 'l',\n",
              " 'm',\n",
              " 'n',\n",
              " 'o',\n",
              " 'p',\n",
              " 'r',\n",
              " 's',\n",
              " 't',\n",
              " 'u',\n",
              " 'v',\n",
              " 'w',\n",
              " 'y',\n",
              " 'z']"
            ]
          },
          "metadata": {
            "tags": []
          },
          "execution_count": 8
        }
      ]
    },
    {
      "cell_type": "code",
      "metadata": {
        "colab": {
          "base_uri": "https://localhost:8080/"
        },
        "id": "F0vZeD0duaP_",
        "outputId": "fca7c963-242a-4ab7-dda2-a18d5bbeb78a"
      },
      "source": [
        "index_to_word = {i:wd for i, wd in enumerate(sorted(unique_words))}\r\n",
        "index_to_word"
      ],
      "execution_count": null,
      "outputs": [
        {
          "output_type": "execute_result",
          "data": {
            "text/plain": [
              "{0: '',\n",
              " 1: \"'\",\n",
              " 2: ',',\n",
              " 3: '.',\n",
              " 4: 'L',\n",
              " 5: 'S',\n",
              " 6: 'Y',\n",
              " 7: 'a',\n",
              " 8: 'b',\n",
              " 9: 'c',\n",
              " 10: 'd',\n",
              " 11: 'e',\n",
              " 12: 'f',\n",
              " 13: 'g',\n",
              " 14: 'h',\n",
              " 15: 'i',\n",
              " 16: 'k',\n",
              " 17: 'l',\n",
              " 18: 'm',\n",
              " 19: 'n',\n",
              " 20: 'o',\n",
              " 21: 'p',\n",
              " 22: 'r',\n",
              " 23: 's',\n",
              " 24: 't',\n",
              " 25: 'u',\n",
              " 26: 'v',\n",
              " 27: 'w',\n",
              " 28: 'y',\n",
              " 29: 'z'}"
            ]
          },
          "metadata": {
            "tags": []
          },
          "execution_count": 9
        }
      ]
    },
    {
      "cell_type": "code",
      "metadata": {
        "colab": {
          "base_uri": "https://localhost:8080/"
        },
        "id": "4jN7cxy_vJUq",
        "outputId": "0a98199d-9ee3-47f2-d5c5-49939d5e2f65"
      },
      "source": [
        "index_to_word = dict(enumerate(sorted(unique_words)))\r\n",
        "index_to_word"
      ],
      "execution_count": null,
      "outputs": [
        {
          "output_type": "execute_result",
          "data": {
            "text/plain": [
              "{0: 'Ladybugs',\n",
              " 1: 'Scissors',\n",
              " 2: 'Spock',\n",
              " 3: 'Spock,',\n",
              " 4: \"You're\",\n",
              " 5: 'afraid',\n",
              " 6: 'always',\n",
              " 7: 'and',\n",
              " 8: 'as',\n",
              " 9: 'catatonic.',\n",
              " 10: 'covers',\n",
              " 11: 'crushes',\n",
              " 12: 'cuts',\n",
              " 13: 'decapitates',\n",
              " 14: 'disproves',\n",
              " 15: 'eats',\n",
              " 16: 'has,',\n",
              " 17: 'insects',\n",
              " 18: 'it',\n",
              " 19: 'lizard',\n",
              " 20: 'lizard,',\n",
              " 21: 'must',\n",
              " 22: 'of',\n",
              " 23: 'paper',\n",
              " 24: 'paper,',\n",
              " 25: 'poisons',\n",
              " 26: 'render',\n",
              " 27: 'rock',\n",
              " 28: 'rock,',\n",
              " 29: 'scissors',\n",
              " 30: 'scissors,',\n",
              " 31: 'scissors.',\n",
              " 32: 'smashes',\n",
              " 33: 'vaporizes',\n",
              " 34: 'women,',\n",
              " 35: 'you'}"
            ]
          },
          "metadata": {
            "tags": []
          },
          "execution_count": 14
        }
      ]
    },
    {
      "cell_type": "code",
      "metadata": {
        "colab": {
          "base_uri": "https://localhost:8080/"
        },
        "id": "KLJqh4TWwlka",
        "outputId": "92455653-0570-4fca-dc67-aa4bfa2fe7f5"
      },
      "source": [
        "word_to_index = {wd:i for i, wd in enumerate(sorted(unique_words))}\r\n",
        "word_to_index"
      ],
      "execution_count": null,
      "outputs": [
        {
          "output_type": "execute_result",
          "data": {
            "text/plain": [
              "{'Ladybugs': 0,\n",
              " 'Scissors': 1,\n",
              " 'Spock': 2,\n",
              " 'Spock,': 3,\n",
              " \"You're\": 4,\n",
              " 'afraid': 5,\n",
              " 'always': 6,\n",
              " 'and': 7,\n",
              " 'as': 8,\n",
              " 'catatonic.': 9,\n",
              " 'covers': 10,\n",
              " 'crushes': 11,\n",
              " 'cuts': 12,\n",
              " 'decapitates': 13,\n",
              " 'disproves': 14,\n",
              " 'eats': 15,\n",
              " 'has,': 16,\n",
              " 'insects': 17,\n",
              " 'it': 18,\n",
              " 'lizard': 19,\n",
              " 'lizard,': 20,\n",
              " 'must': 21,\n",
              " 'of': 22,\n",
              " 'paper': 23,\n",
              " 'paper,': 24,\n",
              " 'poisons': 25,\n",
              " 'render': 26,\n",
              " 'rock': 27,\n",
              " 'rock,': 28,\n",
              " 'scissors': 29,\n",
              " 'scissors,': 30,\n",
              " 'scissors.': 31,\n",
              " 'smashes': 32,\n",
              " 'vaporizes': 33,\n",
              " 'women,': 34,\n",
              " 'you': 35}"
            ]
          },
          "metadata": {
            "tags": []
          },
          "execution_count": 15
        }
      ]
    },
    {
      "cell_type": "code",
      "metadata": {
        "id": "ziHFaSAOw-lJ"
      },
      "source": [
        "sentences = []\r\n",
        "next_chars = []\r\n",
        "step = 2          # ~ Step to take when reading the texts in characters\r\n",
        "chars_window = 10 # ~ Number of characters to use to predict the next one \r\n",
        "\r\n",
        "for i in range(0, len(all_words) - chars_window, step):\r\n",
        "    sentences.append(all_words[i:i + chars_window])\r\n",
        "    next_chars.append(all_words[i + chars_window])\r\n",
        "\r\n"
      ],
      "execution_count": null,
      "outputs": []
    },
    {
      "cell_type": "code",
      "metadata": {
        "colab": {
          "base_uri": "https://localhost:8080/"
        },
        "id": "bfewoMVS0fdH",
        "outputId": "e29d4ef4-a148-4fc6-b80c-f724e9896573"
      },
      "source": [
        "sentences\r\n"
      ],
      "execution_count": null,
      "outputs": [
        {
          "output_type": "execute_result",
          "data": {
            "text/plain": [
              "[[\"You're\",\n",
              "  'afraid',\n",
              "  'of',\n",
              "  'insects',\n",
              "  'and',\n",
              "  'women,',\n",
              "  'Ladybugs',\n",
              "  'must',\n",
              "  'render',\n",
              "  'you'],\n",
              " ['of',\n",
              "  'insects',\n",
              "  'and',\n",
              "  'women,',\n",
              "  'Ladybugs',\n",
              "  'must',\n",
              "  'render',\n",
              "  'you',\n",
              "  'catatonic.',\n",
              "  'Scissors'],\n",
              " ['and',\n",
              "  'women,',\n",
              "  'Ladybugs',\n",
              "  'must',\n",
              "  'render',\n",
              "  'you',\n",
              "  'catatonic.',\n",
              "  'Scissors',\n",
              "  'cuts',\n",
              "  'paper,'],\n",
              " ['Ladybugs',\n",
              "  'must',\n",
              "  'render',\n",
              "  'you',\n",
              "  'catatonic.',\n",
              "  'Scissors',\n",
              "  'cuts',\n",
              "  'paper,',\n",
              "  'paper',\n",
              "  'covers'],\n",
              " ['render',\n",
              "  'you',\n",
              "  'catatonic.',\n",
              "  'Scissors',\n",
              "  'cuts',\n",
              "  'paper,',\n",
              "  'paper',\n",
              "  'covers',\n",
              "  'rock,',\n",
              "  'rock'],\n",
              " ['catatonic.',\n",
              "  'Scissors',\n",
              "  'cuts',\n",
              "  'paper,',\n",
              "  'paper',\n",
              "  'covers',\n",
              "  'rock,',\n",
              "  'rock',\n",
              "  'crushes',\n",
              "  'lizard,'],\n",
              " ['cuts',\n",
              "  'paper,',\n",
              "  'paper',\n",
              "  'covers',\n",
              "  'rock,',\n",
              "  'rock',\n",
              "  'crushes',\n",
              "  'lizard,',\n",
              "  'lizard',\n",
              "  'poisons'],\n",
              " ['paper',\n",
              "  'covers',\n",
              "  'rock,',\n",
              "  'rock',\n",
              "  'crushes',\n",
              "  'lizard,',\n",
              "  'lizard',\n",
              "  'poisons',\n",
              "  'Spock,',\n",
              "  'Spock'],\n",
              " ['rock,',\n",
              "  'rock',\n",
              "  'crushes',\n",
              "  'lizard,',\n",
              "  'lizard',\n",
              "  'poisons',\n",
              "  'Spock,',\n",
              "  'Spock',\n",
              "  'smashes',\n",
              "  'scissors,'],\n",
              " ['crushes',\n",
              "  'lizard,',\n",
              "  'lizard',\n",
              "  'poisons',\n",
              "  'Spock,',\n",
              "  'Spock',\n",
              "  'smashes',\n",
              "  'scissors,',\n",
              "  'scissors',\n",
              "  'decapitates'],\n",
              " ['lizard',\n",
              "  'poisons',\n",
              "  'Spock,',\n",
              "  'Spock',\n",
              "  'smashes',\n",
              "  'scissors,',\n",
              "  'scissors',\n",
              "  'decapitates',\n",
              "  'lizard,',\n",
              "  'lizard'],\n",
              " ['Spock,',\n",
              "  'Spock',\n",
              "  'smashes',\n",
              "  'scissors,',\n",
              "  'scissors',\n",
              "  'decapitates',\n",
              "  'lizard,',\n",
              "  'lizard',\n",
              "  'eats',\n",
              "  'paper,'],\n",
              " ['smashes',\n",
              "  'scissors,',\n",
              "  'scissors',\n",
              "  'decapitates',\n",
              "  'lizard,',\n",
              "  'lizard',\n",
              "  'eats',\n",
              "  'paper,',\n",
              "  'paper',\n",
              "  'disproves'],\n",
              " ['scissors',\n",
              "  'decapitates',\n",
              "  'lizard,',\n",
              "  'lizard',\n",
              "  'eats',\n",
              "  'paper,',\n",
              "  'paper',\n",
              "  'disproves',\n",
              "  'Spock,',\n",
              "  'Spock'],\n",
              " ['lizard,',\n",
              "  'lizard',\n",
              "  'eats',\n",
              "  'paper,',\n",
              "  'paper',\n",
              "  'disproves',\n",
              "  'Spock,',\n",
              "  'Spock',\n",
              "  'vaporizes',\n",
              "  'rock,'],\n",
              " ['eats',\n",
              "  'paper,',\n",
              "  'paper',\n",
              "  'disproves',\n",
              "  'Spock,',\n",
              "  'Spock',\n",
              "  'vaporizes',\n",
              "  'rock,',\n",
              "  'and',\n",
              "  'as'],\n",
              " ['paper',\n",
              "  'disproves',\n",
              "  'Spock,',\n",
              "  'Spock',\n",
              "  'vaporizes',\n",
              "  'rock,',\n",
              "  'and',\n",
              "  'as',\n",
              "  'it',\n",
              "  'always'],\n",
              " ['Spock,',\n",
              "  'Spock',\n",
              "  'vaporizes',\n",
              "  'rock,',\n",
              "  'and',\n",
              "  'as',\n",
              "  'it',\n",
              "  'always',\n",
              "  'has,',\n",
              "  'rock']]"
            ]
          },
          "metadata": {
            "tags": []
          },
          "execution_count": 18
        }
      ]
    },
    {
      "cell_type": "code",
      "metadata": {
        "id": "_fmabNDS0jPv",
        "colab": {
          "base_uri": "https://localhost:8080/"
        },
        "outputId": "2680ff30-6a52-4880-d4ce-09178263cec6"
      },
      "source": [
        " next_chars"
      ],
      "execution_count": null,
      "outputs": [
        {
          "output_type": "execute_result",
          "data": {
            "text/plain": [
              "['catatonic.',\n",
              " 'cuts',\n",
              " 'paper',\n",
              " 'rock,',\n",
              " 'crushes',\n",
              " 'lizard',\n",
              " 'Spock,',\n",
              " 'smashes',\n",
              " 'scissors',\n",
              " 'lizard,',\n",
              " 'eats',\n",
              " 'paper',\n",
              " 'Spock,',\n",
              " 'vaporizes',\n",
              " 'and',\n",
              " 'it',\n",
              " 'has,',\n",
              " 'crushes']"
            ]
          },
          "metadata": {
            "tags": []
          },
          "execution_count": 19
        }
      ]
    },
    {
      "cell_type": "code",
      "metadata": {
        "id": "Qd0lNX0wUw8Y"
      },
      "source": [
        ""
      ],
      "execution_count": null,
      "outputs": []
    }
  ]
}